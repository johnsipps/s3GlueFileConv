{
 "cells": [
  {
   "cell_type": "code",
   "execution_count": null,
   "id": "38975da9",
   "metadata": {},
   "outputs": [],
   "source": [
    "#!/usr/bin/env python\n",
    "# coding: utf-8\n",
    "\n",
    "from pyspark.context import SparkContext\n",
    "from pyspark.sql.functions import * \n",
    "import boto3\n",
    "import pandas as pd\n",
    "import io\n",
    "from awsglue.utils import getResolvedOptions\n",
    "from awsglue.context import GlueContext\n",
    "from awsglue.dynamicframe import DynamicFrame\n",
    "from awsglue.job import Job\n",
    "\n",
    "#Initialize contexts and session\n",
    "spark_context = SparkContext.getOrCreate()\n",
    "glue_context = GlueContext(spark_context)\n",
    "session = glue_context.spark_session\n",
    "\n",
    "#Parameters\n",
    "glue_db = \"dvddlcatalog\"\n",
    "glue_tbl = \"dvdactor\"\n",
    "s3_write_path = \"s3://parqdatalake/dvdactor\"\n",
    "\n",
    "#Read movie data to Glue dynamic frame\n",
    "dynamic_frame_read = glue_context.create_dynamic_frame.from_catalog(database = glue_db, table_name = glue_tbl)\n",
    "\n",
    "#Convert dynamic frame to data frame to use standard pyspark functions\n",
    "df = dynamic_frame_read.toDF()\n",
    "\n",
    "#Convert back to dynamic frame\n",
    "dynamic_frame_write = DynamicFrame.fromDF(df, glue_context, \"dynamic_frame_write\")\n",
    "\n",
    "#Write data back to S3\n",
    "glue_context.write_dynamic_frame.from_options(\n",
    "    frame = dynamic_frame_write,\n",
    "    connection_type = \"s3\",\n",
    "    connection_options = {\n",
    "        \"path\": s3_write_path,\n",
    "        #Here you could create S3 prefixes according to a values in specified columns\n",
    "        #\"partitionKeys\": [\"actor_id\"]\n",
    "    },\n",
    "    format = \"parquet\"\n",
    ")"
   ]
  }
 ],
 "metadata": {
  "kernelspec": {
   "display_name": "Python 3",
   "language": "python",
   "name": "python3"
  },
  "language_info": {
   "codemirror_mode": {
    "name": "ipython",
    "version": 3
   },
   "file_extension": ".py",
   "mimetype": "text/x-python",
   "name": "python",
   "nbconvert_exporter": "python",
   "pygments_lexer": "ipython3",
   "version": "3.9.5"
  }
 },
 "nbformat": 4,
 "nbformat_minor": 5
}
